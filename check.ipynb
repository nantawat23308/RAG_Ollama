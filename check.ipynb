{
 "cells": [
  {
   "cell_type": "code",
   "execution_count": 39,
   "id": "a090c3bc-c13b-48c7-9a20-b69110f26dd2",
   "metadata": {},
   "outputs": [],
   "source": [
    "from langchain_text_splitters import RecursiveCharacterTextSplitter\n",
    "from langchain.schema.document import Document"
   ]
  },
  {
   "cell_type": "code",
   "execution_count": 2,
   "id": "1cac8c90-caf5-49cc-99aa-6dd2d1c9c9d4",
   "metadata": {},
   "outputs": [],
   "source": [
    "def split_document(document):\n",
    "    text_splitter = RecursiveCharacterTextSplitter(\n",
    "        chunk_size=800,\n",
    "        chunk_overlap=80,\n",
    "        length_function=len,\n",
    "        is_separator_regex=False\n",
    "    )\n",
    "    return text_splitter.split_documents(document)\n"
   ]
  },
  {
   "cell_type": "code",
   "execution_count": 3,
   "id": "a066ab86-0b4b-40ae-85b6-5ead6c60adcb",
   "metadata": {},
   "outputs": [],
   "source": [
    "from langchain_community.embeddings.bedrock import BedrockEmbeddings"
   ]
  },
  {
   "cell_type": "code",
   "execution_count": 4,
   "id": "56a817b4-6e6c-42fc-b2d7-66b16c1ead27",
   "metadata": {},
   "outputs": [],
   "source": [
    "def get_embedding_function():\n",
    "    embeddings = BedrockEmbeddings(\n",
    "        credentials_profile_name='default', region_name='us-east-1')\n",
    "    return embeddings"
   ]
  },
  {
   "cell_type": "code",
   "execution_count": 5,
   "id": "06a05864-9f2b-431d-b445-d6d13ba0ea3f",
   "metadata": {},
   "outputs": [],
   "source": [
    "from langchain_community.embeddings.ollama import OllamaEmbeddings"
   ]
  },
  {
   "cell_type": "code",
   "execution_count": 6,
   "id": "2d3ba9b4-cb4e-4371-8f20-1197afcf54cf",
   "metadata": {},
   "outputs": [],
   "source": [
    "def ollama_embedding_function():\n",
    "    ollama_emb = OllamaEmbeddings(model=\"llama3\")\n",
    "    return ollama_emb"
   ]
  },
  {
   "cell_type": "code",
   "execution_count": 11,
   "id": "be6b23ea-7ac1-4f56-bb55-a77ba1736748",
   "metadata": {},
   "outputs": [],
   "source": [
    "from langchain.vectorstores.chroma import Chroma"
   ]
  },
  {
   "cell_type": "code",
   "execution_count": 15,
   "id": "a7eb942c-3c4a-4788-9335-91b5c7bc8db5",
   "metadata": {},
   "outputs": [],
   "source": [
    "CHROMA_PATH = \"chroma\"\n",
    "DATA_PATH = \"data\""
   ]
  },
  {
   "cell_type": "code",
   "execution_count": 16,
   "id": "59031cda-5db6-410b-a2f2-df8b3ab7beaa",
   "metadata": {},
   "outputs": [],
   "source": [
    "import argparse\n",
    "import os\n",
    "import shutil\n",
    "from langchain.document_loaders.pdf import PyPDFDirectoryLoader\n"
   ]
  },
  {
   "cell_type": "code",
   "execution_count": 17,
   "id": "32011136-2042-4999-88f0-756d0a05bd41",
   "metadata": {},
   "outputs": [],
   "source": [
    "def load_documents():\n",
    "    document_loader = PyPDFDirectoryLoader(DATA_PATH)\n",
    "    return document_loader.load()"
   ]
  },
  {
   "cell_type": "code",
   "execution_count": 7,
   "id": "2c4bba62-fa07-4371-a21b-ade65fbf76a9",
   "metadata": {},
   "outputs": [],
   "source": [
    "from langchain_community.document_loaders import RecursiveUrlLoader"
   ]
  },
  {
   "cell_type": "code",
   "execution_count": 8,
   "id": "03346b1f-60b3-49f9-bf76-f71be84a52ef",
   "metadata": {},
   "outputs": [],
   "source": [
    "import re\n",
    "from bs4 import BeautifulSoup"
   ]
  },
  {
   "cell_type": "code",
   "execution_count": 9,
   "id": "287e6be2-a6e6-4bd6-8407-fe57fb056cd2",
   "metadata": {},
   "outputs": [],
   "source": [
    "def bs4_extractor(html: str) -> str:\n",
    "    soup = BeautifulSoup(html, \"lxml\")\n",
    "    return re.sub(r\"\\n\\n+\", \"\\n\\n\", soup.text).strip()"
   ]
  },
  {
   "cell_type": "code",
   "execution_count": 33,
   "id": "ff852ec3-4487-4c5f-a52a-81e8c3d6e8c4",
   "metadata": {},
   "outputs": [],
   "source": [
    "loader = RecursiveUrlLoader(\"https://rcdn9plone.cisco.com/plone/projects/apollo/technical-docs/\", max_depth=2)\n",
    "docs = loader.load()"
   ]
  },
  {
   "cell_type": "code",
   "execution_count": 34,
   "id": "33b2cf63-7a0b-43f8-bde1-e32a96064a10",
   "metadata": {},
   "outputs": [
    {
     "data": {
      "text/plain": [
       "{'source': 'https://rcdn9plone.cisco.com/plone/projects/apollo/technical-docs/',\n",
       " 'content_type': 'text/html; charset=UTF-8',\n",
       " 'title': 'Apollo User Libraries',\n",
       " 'description': 'None',\n",
       " 'language': 'en'}"
      ]
     },
     "execution_count": 34,
     "metadata": {},
     "output_type": "execute_result"
    }
   ],
   "source": [
    "docs[0].metadata"
   ]
  },
  {
   "cell_type": "code",
   "execution_count": 35,
   "id": "6751d9ed-0d7d-462d-bb39-14f67d5e98b3",
   "metadata": {},
   "outputs": [
    {
     "data": {
      "text/plain": [
       "{'source': 'https://rcdn9plone.cisco.com/plone/projects/apollo/technical-docs/toolbox_log_utils.html',\n",
       " 'content_type': 'text/html; charset=UTF-8',\n",
       " 'title': 'log_utils - Apollo User Libraries',\n",
       " 'language': 'en'}"
      ]
     },
     "execution_count": 35,
     "metadata": {},
     "output_type": "execute_result"
    }
   ],
   "source": [
    "docs[1].metadata"
   ]
  },
  {
   "cell_type": "code",
   "execution_count": 36,
   "id": "f39b32a2-1b58-439d-83fa-c4131c36383e",
   "metadata": {},
   "outputs": [
    {
     "data": {
      "text/plain": [
       "{'source': 'https://rcdn9plone.cisco.com/plone/projects/apollo/technical-docs/apollo_libs_chambers_sequences.html',\n",
       " 'content_type': 'text/html; charset=UTF-8',\n",
       " 'title': 'sequences - Apollo User Libraries',\n",
       " 'language': 'en'}"
      ]
     },
     "execution_count": 36,
     "metadata": {},
     "output_type": "execute_result"
    }
   ],
   "source": [
    "docs[2].metadata"
   ]
  },
  {
   "cell_type": "code",
   "execution_count": 37,
   "id": "f3f54ac3-b49d-4f9d-9717-21fe400426f7",
   "metadata": {},
   "outputs": [
    {
     "data": {
      "text/plain": [
       "43"
      ]
     },
     "execution_count": 37,
     "metadata": {},
     "output_type": "execute_result"
    }
   ],
   "source": [
    "len(docs)"
   ]
  },
  {
   "cell_type": "code",
   "execution_count": 40,
   "id": "ed662c4c-8888-4e70-b796-f16df93d0b03",
   "metadata": {},
   "outputs": [],
   "source": [
    "def split_documents(documents: list[Document]):\n",
    "    text_splitter = RecursiveCharacterTextSplitter(\n",
    "        chunk_size=800,\n",
    "        chunk_overlap=80,\n",
    "        length_function=len,\n",
    "        is_separator_regex=False,\n",
    "    )\n",
    "    return text_splitter.split_documents(documents)"
   ]
  },
  {
   "cell_type": "code",
   "execution_count": null,
   "id": "77db2e45-38d0-4016-bc0d-3c38f21345ec",
   "metadata": {},
   "outputs": [],
   "source": [
    "documents = load_documents()\n",
    "    chunks = split_documents(documents)"
   ]
  }
 ],
 "metadata": {
  "kernelspec": {
   "display_name": "Python 3 (ipykernel)",
   "language": "python",
   "name": "python3"
  },
  "language_info": {
   "codemirror_mode": {
    "name": "ipython",
    "version": 3
   },
   "file_extension": ".py",
   "mimetype": "text/x-python",
   "name": "python",
   "nbconvert_exporter": "python",
   "pygments_lexer": "ipython3",
   "version": "3.11.7"
  }
 },
 "nbformat": 4,
 "nbformat_minor": 5
}
