{
 "cells": [
  {
   "cell_type": "code",
   "execution_count": 1,
   "id": "a090c3bc-c13b-48c7-9a20-b69110f26dd2",
   "metadata": {},
   "outputs": [],
   "source": [
    "from langchain_text_splitters import RecursiveCharacterTextSplitter\n",
    "from langchain.schema.document import Document"
   ]
  },
  {
   "cell_type": "code",
   "execution_count": 2,
   "id": "1cac8c90-caf5-49cc-99aa-6dd2d1c9c9d4",
   "metadata": {},
   "outputs": [],
   "source": [
    "def split_document(document):\n",
    "    text_splitter = RecursiveCharacterTextSplitter(\n",
    "        chunk_size=800,\n",
    "        chunk_overlap=80,\n",
    "        length_function=len,\n",
    "        is_separator_regex=False\n",
    "    )\n",
    "    return text_splitter.split_documents(document)\n"
   ]
  },
  {
   "cell_type": "code",
   "execution_count": 3,
   "id": "a066ab86-0b4b-40ae-85b6-5ead6c60adcb",
   "metadata": {},
   "outputs": [],
   "source": [
    "from langchain_community.embeddings.bedrock import BedrockEmbeddings"
   ]
  },
  {
   "cell_type": "code",
   "execution_count": 4,
   "id": "56a817b4-6e6c-42fc-b2d7-66b16c1ead27",
   "metadata": {},
   "outputs": [],
   "source": [
    "def get_embedding_function():\n",
    "    embeddings = BedrockEmbeddings(\n",
    "        credentials_profile_name='default', region_name='us-east-1')\n",
    "    return embeddings"
   ]
  },
  {
   "cell_type": "code",
   "execution_count": 5,
   "id": "06a05864-9f2b-431d-b445-d6d13ba0ea3f",
   "metadata": {},
   "outputs": [],
   "source": [
    "from langchain_community.embeddings.ollama import OllamaEmbeddings"
   ]
  },
  {
   "cell_type": "code",
   "execution_count": 6,
   "id": "2d3ba9b4-cb4e-4371-8f20-1197afcf54cf",
   "metadata": {},
   "outputs": [],
   "source": [
    "def ollama_embedding_function():\n",
    "    ollama_emb = OllamaEmbeddings(model=\"llama3\")\n",
    "    return ollama_emb"
   ]
  },
  {
   "cell_type": "code",
   "execution_count": 11,
   "id": "be6b23ea-7ac1-4f56-bb55-a77ba1736748",
   "metadata": {},
   "outputs": [],
   "source": [
    "from langchain.vectorstores.chroma import Chroma"
   ]
  },
  {
   "cell_type": "code",
   "execution_count": 15,
   "id": "a7eb942c-3c4a-4788-9335-91b5c7bc8db5",
   "metadata": {},
   "outputs": [],
   "source": [
    "CHROMA_PATH = \"chroma\"\n",
    "DATA_PATH = \"data\""
   ]
  },
  {
   "cell_type": "code",
   "execution_count": 16,
   "id": "59031cda-5db6-410b-a2f2-df8b3ab7beaa",
   "metadata": {},
   "outputs": [],
   "source": [
    "import argparse\n",
    "import os\n",
    "import shutil\n",
    "from langchain.document_loaders.pdf import PyPDFDirectoryLoader\n"
   ]
  },
  {
   "cell_type": "code",
   "execution_count": 17,
   "id": "32011136-2042-4999-88f0-756d0a05bd41",
   "metadata": {},
   "outputs": [],
   "source": [
    "def load_documents():\n",
    "    document_loader = PyPDFDirectoryLoader(DATA_PATH)\n",
    "    return document_loader.load()"
   ]
  },
  {
   "cell_type": "code",
   "execution_count": 14,
   "id": "1ba23a1d-2e19-420e-bb8f-d82ce81fc184",
   "metadata": {},
   "outputs": [],
   "source": [
    "def add_to_chroma(chuck):\n",
    "    db = Chroma(persist_directory=CHROMA_PATH,\n",
    "                embedding_function=ollama_embedding_function()\n",
    "               )\n",
    "    db.add_documents(new_chunks, new_chunks_ids)\n",
    "    db.persist()\n",
    "    "
   ]
  },
  {
   "cell_type": "code",
   "execution_count": null,
   "id": "2c4bba62-fa07-4371-a21b-ade65fbf76a9",
   "metadata": {},
   "outputs": [],
   "source": []
  }
 ],
 "metadata": {
  "kernelspec": {
   "display_name": "Python 3 (ipykernel)",
   "language": "python",
   "name": "python3"
  },
  "language_info": {
   "codemirror_mode": {
    "name": "ipython",
    "version": 3
   },
   "file_extension": ".py",
   "mimetype": "text/x-python",
   "name": "python",
   "nbconvert_exporter": "python",
   "pygments_lexer": "ipython3",
   "version": "3.11.7"
  }
 },
 "nbformat": 4,
 "nbformat_minor": 5
}
